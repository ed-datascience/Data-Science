{
 "cells": [
  {
   "cell_type": "markdown",
   "metadata": {},
   "source": [
    "# Tweet Semantic Analysis\n",
    "\n",
    "A simple tweet sentiment classification using pretrained [GloVe word vectors](https://nlp.stanford.edu/projects/glove/) simple convolutional neural network. Network is roughly inspired by article [Convolutional Neural Networks for Sentence Classification](https://arxiv.org/abs/1408.5882). Dataset is trained and tested with [Sentiment Analysis Dataset](http://thinknook.com/twitter-sentiment-analysis-training-corpus-dataset-2012-09-22/) which contains 1,578,627 classified tweets, each row is marked as 1 for positive sentiment and 0 for negative sentiment."
   ]
  },
  {
   "cell_type": "code",
   "execution_count": 1,
   "metadata": {},
   "outputs": [
    {
     "name": "stderr",
     "output_type": "stream",
     "text": [
      "/u/58/edamskag/unix/tensorflow/plants/lib/python3.5/site-packages/h5py/__init__.py:36: FutureWarning: Conversion of the second argument of issubdtype from `float` to `np.floating` is deprecated. In future, it will be treated as `np.float64 == np.dtype(float).type`.\n",
      "  from ._conv import register_converters as _register_converters\n",
      "Using TensorFlow backend.\n"
     ]
    }
   ],
   "source": [
    "import pandas as pd\n",
    "import numpy as np\n",
    "import matplotlib.pyplot as plt\n",
    "\n",
    "import os\n",
    "import csv\n",
    "\n",
    "from sklearn.utils import shuffle\n",
    "from sklearn.model_selection import train_test_split\n",
    "from keras.models import Sequential\n",
    "from keras.layers import Dropout\n",
    "from keras.preprocessing.text import Tokenizer\n",
    "from keras.preprocessing.sequence import pad_sequences\n",
    "from keras.utils.np_utils import to_categorical\n",
    "from keras.layers import Dense, Input,  Flatten\n",
    "from keras.layers import Conv1D, MaxPooling1D, Conv2D, MaxPooling2D, AveragePooling1D, Embedding, LSTM\n",
    "from keras.models import load_model\n",
    "\n",
    "import gensim\n",
    "from gensim.models.word2vec import Word2Vec \n",
    "\n",
    "import nltk\n",
    "\n",
    "import warnings\n",
    "warnings.filterwarnings('ignore')"
   ]
  },
  {
   "cell_type": "markdown",
   "metadata": {},
   "source": [
    "# Load data from Sentiment Analysis Dataset.csv"
   ]
  },
  {
   "cell_type": "code",
   "execution_count": 2,
   "metadata": {},
   "outputs": [],
   "source": [
    "x = []\n",
    "y = []\n",
    "with open(\"Sentiment Analysis Dataset.csv\", \"rt\") as f:\n",
    "    reader = csv.reader(f, delimiter=\",\")\n",
    "    for i, line in enumerate(reader):\n",
    "        is_positive = line[1]==\"1\"\n",
    "        text = line[3]\n",
    "        x.append(text)\n",
    "        y.append(is_positive)"
   ]
  },
  {
   "cell_type": "markdown",
   "metadata": {},
   "source": [
    "data = pd.read_csv('Sentiment Analysis Dataset.csv', error_bad_lines=False)\n",
    "data.drop(['ItemID', 'SentimentSource'], axis=1, inplace=True)\n",
    "print('dataset loaded with shape', data.shape) "
   ]
  },
  {
   "cell_type": "markdown",
   "metadata": {},
   "source": [
    "# Function for tokenizing data"
   ]
  },
  {
   "cell_type": "code",
   "execution_count": 3,
   "metadata": {},
   "outputs": [],
   "source": [
    "number_of_words=50000\n",
    "max_sequence_length = 20\n",
    "def tokenize_data(x_raw, y_raw):\n",
    "    tokenizer = Tokenizer(nb_words=number_of_words)\n",
    "    tokenizer.fit_on_texts(x_raw)\n",
    "    sequences = tokenizer.texts_to_sequences(x_raw)\n",
    "    word_index = tokenizer.word_index\n",
    "    x_processed = pad_sequences(sequences, maxlen=max_sequence_length)\n",
    "    y_processed = to_categorical(np.asarray(y_raw), 2)\n",
    "\n",
    "    return x_processed, y_processed, word_index\n"
   ]
  },
  {
   "cell_type": "code",
   "execution_count": 4,
   "metadata": {},
   "outputs": [],
   "source": [
    "x_processed, y_processed, word_index = tokenize_data(x,y)"
   ]
  },
  {
   "cell_type": "markdown",
   "metadata": {},
   "source": [
    "# Shuffle data and split it for training and testing"
   ]
  },
  {
   "cell_type": "code",
   "execution_count": 5,
   "metadata": {},
   "outputs": [],
   "source": [
    "x_train, x_test, y_train, y_test = train_test_split(x_processed, y_processed, test_size = 0.1, random_state=1)"
   ]
  },
  {
   "cell_type": "markdown",
   "metadata": {},
   "source": [
    "# Glove embeddings"
   ]
  },
  {
   "cell_type": "code",
   "execution_count": 6,
   "metadata": {},
   "outputs": [],
   "source": [
    "embedding_dimension = 200\n",
    "glove_directory=\"./glove/\"\n",
    "glove_file=\"glove.twitter.27B.200d.txt\"\n",
    "def get_embeddings():\n",
    "    embeddings = {}\n",
    "    with open(os.path.join(glove_directory, glove_file), 'r') as f:\n",
    "        for line in f:\n",
    "            values = line.split()\n",
    "            word = values[0]\n",
    "            coefs = np.asarray(values[1:], dtype='float32')\n",
    "            embeddings[word] = coefs\n",
    "    return embeddings"
   ]
  },
  {
   "cell_type": "markdown",
   "metadata": {},
   "source": [
    "# Embeddings layer"
   ]
  },
  {
   "cell_type": "code",
   "execution_count": 7,
   "metadata": {},
   "outputs": [],
   "source": [
    "def embedding_layer(word_index):\n",
    "    embeddings = get_embeddings()\n",
    "    nb_words = min(number_of_words, len(word_index))\n",
    "    embedding_matrix = np.zeros((nb_words, embedding_dimension))\n",
    "    for word, i in word_index.items():\n",
    "        if i >= number_of_words:\n",
    "            continue\n",
    "        embedding_vector = embeddings.get(word)\n",
    "        if embedding_vector is not None:\n",
    "            embedding_matrix[i] = embedding_vector\n",
    "\n",
    "    embedding_layer = Embedding(input_dim=nb_words, output_dim=embedding_dimension, weights=[embedding_matrix], input_length=max_sequence_length, trainable=False)\n",
    "    return embedding_layer"
   ]
  },
  {
   "cell_type": "code",
   "execution_count": 8,
   "metadata": {},
   "outputs": [],
   "source": [
    "def create_model(labels_index, word_index):\n",
    "    embedded_sequences = embedding_layer(word_index)\n",
    "    model = Sequential([\n",
    "        embedded_sequences,\n",
    "        Conv1D(nb_filter=128, filter_length=3, padding='same', activation='relu'),\n",
    "        MaxPooling1D(pool_length=1),\n",
    "        Conv1D(nb_filter=128, filter_length=4, padding='same', activation='relu'),\n",
    "        MaxPooling1D(pool_length=1),\n",
    "        Dropout(0.4),\n",
    "        Flatten(),\n",
    "        Dense(len(labels_index), activation='softmax')\n",
    "    ])\n",
    "\n",
    "    model.compile(loss='categorical_crossentropy', optimizer='adam', metrics=['acc'])\n",
    "\n",
    "    return model"
   ]
  },
  {
   "cell_type": "code",
   "execution_count": 9,
   "metadata": {},
   "outputs": [
    {
     "name": "stdout",
     "output_type": "stream",
     "text": [
      "_________________________________________________________________\n",
      "Layer (type)                 Output Shape              Param #   \n",
      "=================================================================\n",
      "embedding_1 (Embedding)      (None, 20, 200)           10000000  \n",
      "_________________________________________________________________\n",
      "conv1d_1 (Conv1D)            (None, 20, 128)           76928     \n",
      "_________________________________________________________________\n",
      "max_pooling1d_1 (MaxPooling1 (None, 20, 128)           0         \n",
      "_________________________________________________________________\n",
      "conv1d_2 (Conv1D)            (None, 20, 128)           65664     \n",
      "_________________________________________________________________\n",
      "max_pooling1d_2 (MaxPooling1 (None, 20, 128)           0         \n",
      "_________________________________________________________________\n",
      "dropout_1 (Dropout)          (None, 20, 128)           0         \n",
      "_________________________________________________________________\n",
      "flatten_1 (Flatten)          (None, 2560)              0         \n",
      "_________________________________________________________________\n",
      "dense_1 (Dense)              (None, 2)                 5122      \n",
      "=================================================================\n",
      "Total params: 10,147,714\n",
      "Trainable params: 147,714\n",
      "Non-trainable params: 10,000,000\n",
      "_________________________________________________________________\n",
      "None\n"
     ]
    }
   ],
   "source": [
    "labels_index = { 'Negative': 0, 'Positive': 1}\n",
    "model = create_model(labels_index, word_index)\n",
    "print(model.summary())"
   ]
  },
  {
   "cell_type": "code",
   "execution_count": 10,
   "metadata": {},
   "outputs": [
    {
     "name": "stdout",
     "output_type": "stream",
     "text": [
      "Train on 1278677 samples, validate on 142076 samples\n",
      "Epoch 1/10\n",
      "1278677/1278677 [==============================] - 37s 29us/step - loss: 0.4408 - acc: 0.7951 - val_loss: 0.4135 - val_acc: 0.8106\n",
      "Epoch 2/10\n",
      "1278677/1278677 [==============================] - 36s 28us/step - loss: 0.4114 - acc: 0.8127 - val_loss: 0.4045 - val_acc: 0.8169\n",
      "Epoch 3/10\n",
      "1278677/1278677 [==============================] - 36s 28us/step - loss: 0.4016 - acc: 0.8186 - val_loss: 0.4039 - val_acc: 0.8177\n",
      "Epoch 4/10\n",
      "1278677/1278677 [==============================] - 37s 29us/step - loss: 0.3950 - acc: 0.8220 - val_loss: 0.4000 - val_acc: 0.8188\n",
      "Epoch 5/10\n",
      "1278677/1278677 [==============================] - 36s 28us/step - loss: 0.3894 - acc: 0.8250 - val_loss: 0.4014 - val_acc: 0.8191\n",
      "Epoch 6/10\n",
      "1278677/1278677 [==============================] - 36s 28us/step - loss: 0.3854 - acc: 0.8272 - val_loss: 0.4037 - val_acc: 0.8170\n",
      "Epoch 7/10\n",
      "1278677/1278677 [==============================] - 36s 28us/step - loss: 0.3815 - acc: 0.8293 - val_loss: 0.4017 - val_acc: 0.8187\n",
      "Epoch 8/10\n",
      "1278677/1278677 [==============================] - 36s 28us/step - loss: 0.3781 - acc: 0.8306 - val_loss: 0.4026 - val_acc: 0.8196\n",
      "Epoch 9/10\n",
      "1278677/1278677 [==============================] - 36s 28us/step - loss: 0.3752 - acc: 0.8323 - val_loss: 0.4054 - val_acc: 0.8187\n",
      "Epoch 10/10\n",
      "1278677/1278677 [==============================] - 37s 29us/step - loss: 0.3724 - acc: 0.8339 - val_loss: 0.4058 - val_acc: 0.8181\n"
     ]
    }
   ],
   "source": [
    "batch_size = 256\n",
    "epochs = 10\n",
    "History=model.fit(x_train, y_train, validation_split=0.1, epochs=epochs,batch_size=batch_size,verbose=1)\n",
    "model.save_weights('weights.h5')\n",
    "model.save(\"model.h5\")"
   ]
  },
  {
   "cell_type": "code",
   "execution_count": 11,
   "metadata": {},
   "outputs": [
    {
     "data": {
      "image/png": "[encoded data removed]",
      "text/plain": [
       "<Figure size 432x288 with 1 Axes>"
      ]
     },
     "metadata": {},
     "output_type": "display_data"
    }
   ],
   "source": [
    "plt.plot(History.history['loss'])\n",
    "plt.plot(History.history['val_loss'])\n",
    "plt.title('Training for ' +str(epochs)+ ' epochs')\n",
    "plt.legend(['Training Loss', 'Validation Loss'], loc='upper right')\n",
    "plt.show()"
   ]
  },
  {
   "cell_type": "code",
   "execution_count": 12,
   "metadata": {},
   "outputs": [
    {
     "data": {
      "image/png": "[encoded data removed]",
      "text/plain": [
       "<Figure size 432x288 with 1 Axes>"
      ]
     },
     "metadata": {},
     "output_type": "display_data"
    }
   ],
   "source": [
    "plt.plot(History.history['acc'])\n",
    "plt.plot(History.history['val_acc'])\n",
    "plt.title('Training for ' +str(epochs)+ ' epochs')\n",
    "plt.legend(['Training Accuracy', 'Validation Accuracy'], loc='lower right')\n",
    "plt.show()"
   ]
  },
  {
   "cell_type": "code",
   "execution_count": 13,
   "metadata": {
    "scrolled": true
   },
   "outputs": [
    {
     "name": "stdout",
     "output_type": "stream",
     "text": [
      "157862/157862 [==============================] - 3s 20us/step\n"
     ]
    },
    {
     "data": {
      "text/plain": [
       "[0.4092599625146819, 0.8165232925027739]"
      ]
     },
     "execution_count": 13,
     "metadata": {},
     "output_type": "execute_result"
    }
   ],
   "source": [
    "model.evaluate(x_test,y_test, batch_size=128)"
   ]
  },
  {
   "cell_type": "markdown",
   "metadata": {},
   "source": [
    "# Model gives test accuracy 81,7%."
   ]
  }
 ],
 "metadata": {
  "kernelspec": {
   "display_name": "Python 3",
   "language": "python",
   "name": "python3"
  },
  "language_info": {
   "codemirror_mode": {
    "name": "ipython",
    "version": 3
   },
   "file_extension": ".py",
   "mimetype": "text/x-python",
   "name": "python",
   "nbconvert_exporter": "python",
   "pygments_lexer": "ipython3",
   "version": "3.5.2"
  }
 },
 "nbformat": 4,
 "nbformat_minor": 2
}
