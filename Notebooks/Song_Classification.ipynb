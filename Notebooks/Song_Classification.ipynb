{
 "cells": [
  {
   "cell_type": "markdown",
   "metadata": {},
   "source": [
    "# Song Classification\n",
    "In this work, a custom subset of the Million Song Dataset is classified by the genre of the songs based on 264 bag-of-frames features. The feature vector consists of 264 features: 48 values for MFCCs (12 bands, 4 statistics), 48 values for chroma (12 bands, 4 statistics), and 168 values for rhythm patterns (24 bands, 7 statistics)."
   ]
  },
  {
   "cell_type": "code",
   "execution_count": 16,
   "metadata": {},
   "outputs": [
    {
     "name": "stderr",
     "output_type": "stream",
     "text": [
      "/Users/erno/anaconda/lib/python3.6/site-packages/sklearn/cross_validation.py:41: DeprecationWarning: This module was deprecated in version 0.18 in favor of the model_selection module into which all the refactored classes and functions are moved. Also note that the interface of the new CV iterators are different from that of this module. This module will be removed in 0.20.\n",
      "  \"This module will be removed in 0.20.\", DeprecationWarning)\n"
     ]
    }
   ],
   "source": [
    "import pandas as pd\n",
    "import os\n",
    "import datetime\n",
    "import numpy as np\n",
    "import matplotlib\n",
    "import matplotlib.pyplot as plt\n",
    "import seaborn as sns\n",
    "from sklearn.metrics import accuracy_score, cohen_kappa_score, confusion_matrix,log_loss\n",
    "from sklearn import svm\n",
    "from sklearn.model_selection import train_test_split\n",
    "from sklearn import linear_model, decomposition, datasets\n",
    "from sklearn.preprocessing import StandardScaler\n",
    "from imblearn.over_sampling import SMOTE\n",
    "import xgboost as xgb\n",
    "%matplotlib inline\n",
    "plt.style.use( 'seaborn-dark-palette' )\n",
    "sns.set_style( 'white' )"
   ]
  },
  {
   "cell_type": "code",
   "execution_count": 2,
   "metadata": {
    "collapsed": true
   },
   "outputs": [],
   "source": [
    "#Make new directory for plots and submission labels and logloss\n",
    "outdir = datetime.datetime.now().strftime('%Y-%m-%d-%H%M') + '/'\n",
    "os.mkdir(outdir)"
   ]
  },
  {
   "cell_type": "markdown",
   "metadata": {},
   "source": [
    "# Data Exploration"
   ]
  },
  {
   "cell_type": "code",
   "execution_count": 3,
   "metadata": {
    "collapsed": true
   },
   "outputs": [],
   "source": [
    "#Load and scale data, and split the train data to train and validation data. \n",
    "train_data=pd.read_csv('train_data.csv',header=None)\n",
    "train_labels=pd.read_csv('train_labels.csv',header=None)\n",
    "test_data=pd.read_csv('test_data.csv',header=None)\n",
    "train_data2, test_data2, train_labels,validation_labels=train_test_split(train_data,train_labels,test_size=0.25)\n",
    "scaler = StandardScaler()\n",
    "train_features=scaler.fit_transform(train_data2)\n",
    "validation_features=scaler.transform(test_data2)\n",
    "genres=[\"Pop_Rock\",\"Electronic\",\"Rap\",\"Jazz\",\"Latin\",\"RnB\",\"International\",\"Country\",\"Reggae\",\"Blues\"]"
   ]
  },
  {
   "cell_type": "code",
   "execution_count": 4,
   "metadata": {
    "scrolled": true
   },
   "outputs": [
    {
     "data": {
      "text/html": [
       "<div>\n",
       "<style>\n",
       "    .dataframe thead tr:only-child th {\n",
       "        text-align: right;\n",
       "    }\n",
       "\n",
       "    .dataframe thead th {\n",
       "        text-align: left;\n",
       "    }\n",
       "\n",
       "    .dataframe tbody tr th {\n",
       "        vertical-align: top;\n",
       "    }\n",
       "</style>\n",
       "<table border=\"1\" class=\"dataframe\">\n",
       "  <thead>\n",
       "    <tr style=\"text-align: right;\">\n",
       "      <th></th>\n",
       "      <th>0</th>\n",
       "      <th>1</th>\n",
       "      <th>2</th>\n",
       "      <th>3</th>\n",
       "      <th>4</th>\n",
       "      <th>5</th>\n",
       "      <th>6</th>\n",
       "      <th>7</th>\n",
       "      <th>8</th>\n",
       "      <th>9</th>\n",
       "      <th>...</th>\n",
       "      <th>254</th>\n",
       "      <th>255</th>\n",
       "      <th>256</th>\n",
       "      <th>257</th>\n",
       "      <th>258</th>\n",
       "      <th>259</th>\n",
       "      <th>260</th>\n",
       "      <th>261</th>\n",
       "      <th>262</th>\n",
       "      <th>263</th>\n",
       "    </tr>\n",
       "  </thead>\n",
       "  <tbody>\n",
       "    <tr>\n",
       "      <th>count</th>\n",
       "      <td>4363.000000</td>\n",
       "      <td>4363.000000</td>\n",
       "      <td>4363.000000</td>\n",
       "      <td>4363.000000</td>\n",
       "      <td>4363.000000</td>\n",
       "      <td>4363.000000</td>\n",
       "      <td>4363.000000</td>\n",
       "      <td>4363.000000</td>\n",
       "      <td>4363.000000</td>\n",
       "      <td>4363.000000</td>\n",
       "      <td>...</td>\n",
       "      <td>4363.000000</td>\n",
       "      <td>4363.000000</td>\n",
       "      <td>4363.000000</td>\n",
       "      <td>4363.000000</td>\n",
       "      <td>4363.000000</td>\n",
       "      <td>4363.000000</td>\n",
       "      <td>4363.000000</td>\n",
       "      <td>4363.000000</td>\n",
       "      <td>4363.000000</td>\n",
       "      <td>4363.000000</td>\n",
       "    </tr>\n",
       "    <tr>\n",
       "      <th>mean</th>\n",
       "      <td>44.061232</td>\n",
       "      <td>3.403105</td>\n",
       "      <td>4.435200</td>\n",
       "      <td>1.302779</td>\n",
       "      <td>-5.930146</td>\n",
       "      <td>-10.254129</td>\n",
       "      <td>-1.237425</td>\n",
       "      <td>-2.546184</td>\n",
       "      <td>3.769297</td>\n",
       "      <td>1.744708</td>\n",
       "      <td>...</td>\n",
       "      <td>10.873155</td>\n",
       "      <td>11.070106</td>\n",
       "      <td>10.356626</td>\n",
       "      <td>8.901890</td>\n",
       "      <td>6.750214</td>\n",
       "      <td>5.566880</td>\n",
       "      <td>4.522454</td>\n",
       "      <td>3.647420</td>\n",
       "      <td>1.779626</td>\n",
       "      <td>0.127980</td>\n",
       "    </tr>\n",
       "    <tr>\n",
       "      <th>std</th>\n",
       "      <td>5.623130</td>\n",
       "      <td>49.095594</td>\n",
       "      <td>34.225263</td>\n",
       "      <td>15.924631</td>\n",
       "      <td>22.144000</td>\n",
       "      <td>12.222974</td>\n",
       "      <td>13.962585</td>\n",
       "      <td>8.037242</td>\n",
       "      <td>9.955007</td>\n",
       "      <td>6.640795</td>\n",
       "      <td>...</td>\n",
       "      <td>3.990877</td>\n",
       "      <td>4.114535</td>\n",
       "      <td>3.976631</td>\n",
       "      <td>3.359308</td>\n",
       "      <td>2.532830</td>\n",
       "      <td>2.227236</td>\n",
       "      <td>1.914263</td>\n",
       "      <td>1.653805</td>\n",
       "      <td>0.944251</td>\n",
       "      <td>0.254935</td>\n",
       "    </tr>\n",
       "    <tr>\n",
       "      <th>min</th>\n",
       "      <td>17.026000</td>\n",
       "      <td>-334.950000</td>\n",
       "      <td>-171.400000</td>\n",
       "      <td>-89.266000</td>\n",
       "      <td>-111.360000</td>\n",
       "      <td>-72.304000</td>\n",
       "      <td>-68.498000</td>\n",
       "      <td>-58.349000</td>\n",
       "      <td>-68.361000</td>\n",
       "      <td>-31.270000</td>\n",
       "      <td>...</td>\n",
       "      <td>0.045971</td>\n",
       "      <td>0.079733</td>\n",
       "      <td>0.031322</td>\n",
       "      <td>0.010467</td>\n",
       "      <td>0.001066</td>\n",
       "      <td>0.001066</td>\n",
       "      <td>0.001066</td>\n",
       "      <td>0.001066</td>\n",
       "      <td>0.001066</td>\n",
       "      <td>0.001066</td>\n",
       "    </tr>\n",
       "    <tr>\n",
       "      <th>25%</th>\n",
       "      <td>40.756500</td>\n",
       "      <td>-22.828000</td>\n",
       "      <td>-15.133000</td>\n",
       "      <td>-8.000850</td>\n",
       "      <td>-19.883500</td>\n",
       "      <td>-19.033500</td>\n",
       "      <td>-9.836150</td>\n",
       "      <td>-7.102450</td>\n",
       "      <td>-2.017150</td>\n",
       "      <td>-2.663700</td>\n",
       "      <td>...</td>\n",
       "      <td>8.032000</td>\n",
       "      <td>8.277700</td>\n",
       "      <td>7.627550</td>\n",
       "      <td>6.618000</td>\n",
       "      <td>5.046600</td>\n",
       "      <td>4.061450</td>\n",
       "      <td>3.245950</td>\n",
       "      <td>2.498600</td>\n",
       "      <td>1.165800</td>\n",
       "      <td>0.001066</td>\n",
       "    </tr>\n",
       "    <tr>\n",
       "      <th>50%</th>\n",
       "      <td>44.742000</td>\n",
       "      <td>9.044300</td>\n",
       "      <td>7.597600</td>\n",
       "      <td>-0.725070</td>\n",
       "      <td>-5.618800</td>\n",
       "      <td>-11.443000</td>\n",
       "      <td>-1.390900</td>\n",
       "      <td>-2.380500</td>\n",
       "      <td>3.929100</td>\n",
       "      <td>1.673600</td>\n",
       "      <td>...</td>\n",
       "      <td>10.830000</td>\n",
       "      <td>10.923000</td>\n",
       "      <td>10.290000</td>\n",
       "      <td>8.863700</td>\n",
       "      <td>6.688900</td>\n",
       "      <td>5.556800</td>\n",
       "      <td>4.423400</td>\n",
       "      <td>3.535400</td>\n",
       "      <td>1.644600</td>\n",
       "      <td>0.001066</td>\n",
       "    </tr>\n",
       "    <tr>\n",
       "      <th>75%</th>\n",
       "      <td>48.307500</td>\n",
       "      <td>35.714000</td>\n",
       "      <td>26.429500</td>\n",
       "      <td>8.729200</td>\n",
       "      <td>7.987050</td>\n",
       "      <td>-2.915450</td>\n",
       "      <td>6.970800</td>\n",
       "      <td>2.087400</td>\n",
       "      <td>9.741250</td>\n",
       "      <td>5.950950</td>\n",
       "      <td>...</td>\n",
       "      <td>13.608000</td>\n",
       "      <td>13.854500</td>\n",
       "      <td>13.012500</td>\n",
       "      <td>11.131500</td>\n",
       "      <td>8.373550</td>\n",
       "      <td>6.961050</td>\n",
       "      <td>5.693750</td>\n",
       "      <td>4.665950</td>\n",
       "      <td>2.267850</td>\n",
       "      <td>0.005380</td>\n",
       "    </tr>\n",
       "    <tr>\n",
       "      <th>max</th>\n",
       "      <td>55.706000</td>\n",
       "      <td>183.370000</td>\n",
       "      <td>197.150000</td>\n",
       "      <td>107.240000</td>\n",
       "      <td>161.900000</td>\n",
       "      <td>55.764000</td>\n",
       "      <td>138.400000</td>\n",
       "      <td>37.512000</td>\n",
       "      <td>56.069000</td>\n",
       "      <td>38.294000</td>\n",
       "      <td>...</td>\n",
       "      <td>26.280000</td>\n",
       "      <td>26.637000</td>\n",
       "      <td>31.465000</td>\n",
       "      <td>22.770000</td>\n",
       "      <td>18.363000</td>\n",
       "      <td>16.768000</td>\n",
       "      <td>13.589000</td>\n",
       "      <td>11.939000</td>\n",
       "      <td>8.631500</td>\n",
       "      <td>1.389200</td>\n",
       "    </tr>\n",
       "  </tbody>\n",
       "</table>\n",
       "<p>8 rows × 264 columns</p>\n",
       "</div>"
      ],
      "text/plain": [
       "               0            1            2            3            4    \\\n",
       "count  4363.000000  4363.000000  4363.000000  4363.000000  4363.000000   \n",
       "mean     44.061232     3.403105     4.435200     1.302779    -5.930146   \n",
       "std       5.623130    49.095594    34.225263    15.924631    22.144000   \n",
       "min      17.026000  -334.950000  -171.400000   -89.266000  -111.360000   \n",
       "25%      40.756500   -22.828000   -15.133000    -8.000850   -19.883500   \n",
       "50%      44.742000     9.044300     7.597600    -0.725070    -5.618800   \n",
       "75%      48.307500    35.714000    26.429500     8.729200     7.987050   \n",
       "max      55.706000   183.370000   197.150000   107.240000   161.900000   \n",
       "\n",
       "               5            6            7            8            9    \\\n",
       "count  4363.000000  4363.000000  4363.000000  4363.000000  4363.000000   \n",
       "mean    -10.254129    -1.237425    -2.546184     3.769297     1.744708   \n",
       "std      12.222974    13.962585     8.037242     9.955007     6.640795   \n",
       "min     -72.304000   -68.498000   -58.349000   -68.361000   -31.270000   \n",
       "25%     -19.033500    -9.836150    -7.102450    -2.017150    -2.663700   \n",
       "50%     -11.443000    -1.390900    -2.380500     3.929100     1.673600   \n",
       "75%      -2.915450     6.970800     2.087400     9.741250     5.950950   \n",
       "max      55.764000   138.400000    37.512000    56.069000    38.294000   \n",
       "\n",
       "          ...               254          255          256          257  \\\n",
       "count     ...       4363.000000  4363.000000  4363.000000  4363.000000   \n",
       "mean      ...         10.873155    11.070106    10.356626     8.901890   \n",
       "std       ...          3.990877     4.114535     3.976631     3.359308   \n",
       "min       ...          0.045971     0.079733     0.031322     0.010467   \n",
       "25%       ...          8.032000     8.277700     7.627550     6.618000   \n",
       "50%       ...         10.830000    10.923000    10.290000     8.863700   \n",
       "75%       ...         13.608000    13.854500    13.012500    11.131500   \n",
       "max       ...         26.280000    26.637000    31.465000    22.770000   \n",
       "\n",
       "               258          259          260          261          262  \\\n",
       "count  4363.000000  4363.000000  4363.000000  4363.000000  4363.000000   \n",
       "mean      6.750214     5.566880     4.522454     3.647420     1.779626   \n",
       "std       2.532830     2.227236     1.914263     1.653805     0.944251   \n",
       "min       0.001066     0.001066     0.001066     0.001066     0.001066   \n",
       "25%       5.046600     4.061450     3.245950     2.498600     1.165800   \n",
       "50%       6.688900     5.556800     4.423400     3.535400     1.644600   \n",
       "75%       8.373550     6.961050     5.693750     4.665950     2.267850   \n",
       "max      18.363000    16.768000    13.589000    11.939000     8.631500   \n",
       "\n",
       "               263  \n",
       "count  4363.000000  \n",
       "mean      0.127980  \n",
       "std       0.254935  \n",
       "min       0.001066  \n",
       "25%       0.001066  \n",
       "50%       0.001066  \n",
       "75%       0.005380  \n",
       "max       1.389200  \n",
       "\n",
       "[8 rows x 264 columns]"
      ]
     },
     "execution_count": 4,
     "metadata": {},
     "output_type": "execute_result"
    }
   ],
   "source": [
    "train_data.describe()"
   ]
  },
  {
   "cell_type": "markdown",
   "metadata": {},
   "source": [
    "All features are numerical but there is no information what the features consist except that first 48 features are for  Mel-frequency cepstral coefficients(MFCCs), and next 48 features are for chroma, and last 168 features are for rhythm pattern."
   ]
  },
  {
   "cell_type": "markdown",
   "metadata": {},
   "source": [
    "Lets see how train labels are distributed."
   ]
  },
  {
   "cell_type": "code",
   "execution_count": 5,
   "metadata": {},
   "outputs": [
    {
     "data": {
      "text/plain": [
       "(array([0, 1, 2, 3, 4, 5, 6, 7, 8, 9]), <a list of 10 Text xticklabel objects>)"
      ]
     },
     "execution_count": 5,
     "metadata": {},
     "output_type": "execute_result"
    },
    {
     "data": {
      "image/png": "[encoded data removed]",
      "text/plain": [
       "<matplotlib.figure.Figure at 0x1126d84a8>"
      ]
     },
     "metadata": {},
     "output_type": "display_data"
    }
   ],
   "source": [
    "fig4,ax4=plt.subplots(figsize=(5,2.5))\n",
    "ax4.bar(np.arange(10),train_labels[0].value_counts())\n",
    "ax4.set_xticks(np.arange(10))\n",
    "ax4.set_xticklabels(genres, fontsize=12)\n",
    "ax4.set_ylabel(\"Number of songs\")\n",
    "plt.xticks(rotation=45)"
   ]
  },
  {
   "cell_type": "markdown",
   "metadata": {},
   "source": [
    "Train label distribution is very unbalanced as most songs are from the Pop_rock genre. The counter this lets do over-sampling with a borderline over-sampling method. The method creates samples at the borderline between the minority classes and the majority class in the training data, as the samples at the borderline are most critical for esti- mating the optimal decision boundary. In the algorithm, the borderlines are created by a support vector machine (SVM), which is trained on the original training dataset. New instances are then randomly created along the lines."
   ]
  },
  {
   "cell_type": "code",
   "execution_count": 6,
   "metadata": {},
   "outputs": [],
   "source": [
    "#Do over-sampling with SVM-SMOTE\n",
    "fe, la = SMOTE(kind='svm').fit_sample(train_features, train_labels[0].values)"
   ]
  },
  {
   "cell_type": "code",
   "execution_count": 7,
   "metadata": {},
   "outputs": [
    {
     "data": {
      "text/plain": [
       "(array([0, 1, 2, 3, 4, 5, 6, 7, 8, 9]), <a list of 10 Text xticklabel objects>)"
      ]
     },
     "execution_count": 7,
     "metadata": {},
     "output_type": "execute_result"
    },
    {
     "data": {
      "image/png": "[encoded data removed]",
      "text/plain": [
       "<matplotlib.figure.Figure at 0x1126a0a20>"
      ]
     },
     "metadata": {},
     "output_type": "display_data"
    }
   ],
   "source": [
    "#Count number of song labeled to each genre in training dataset\n",
    "countsmote=np.zeros(10)\n",
    "for i in range(1,11):\n",
    "    countsmote[i-1]=np.sum(la == i)\n",
    "fig4,ax4=plt.subplots(figsize=(5,2.5))\n",
    "ax4.bar(np.arange(10),countsmote)\n",
    "ax4.set_xticks(np.arange(10))\n",
    "ax4.set_xticklabels(genres, fontsize=12)\n",
    "ax4.set_ylabel(\"Number of songs\")\n",
    "plt.xticks(rotation=45)"
   ]
  },
  {
   "cell_type": "markdown",
   "metadata": {},
   "source": [
    "Oversampled training dataset looks now more balanced."
   ]
  },
  {
   "cell_type": "markdown",
   "metadata": {},
   "source": [
    "# Classification\n",
    "Lets next try multiple different classification models <br>\n",
    "Support vector machine<br>\n",
    "Logistic Regression<br>\n",
    "Xgboost Classifier<br>\n",
    "\n",
    "Models are evaluated by the classification accuracy and logarithmic loss which are defined as<br>\n",
    "\n",
    "$\\mathrm{accuracy} = \\frac{|y_{\\mathrm{true}} - y_{\\mathrm{predicted}}|}{N}$,<br>\n",
    "\n",
    "$\\mathrm{logloss} = -\\frac{1}{N} \\sum_{i=1}^{N}\\sum_{j=1}^{M}y_{i,j}\\log(p_{i,j})$,  <br>\n",
    "\n",
    "where $N$ is the number of test data samples, M is the number of classes, $y_{i,j}$ is indicator which is 1 when sample $i$ is classified to class $j$, and $p_{i,j}$ are the predicted probability that sample $i$ belongs to class $j$.\n",
    "\n",
    "The validation dataset is also imbalanced. Thus, a Cohen’s kappa score is also calculated as it takes into account the possibility of correct classification happening by chance."
   ]
  },
  {
   "cell_type": "markdown",
   "metadata": {},
   "source": [
    "First lets try SVM as it is effective in high dimensional spaces, and can perform a non-linear classification. The goal of SVM classification is to train a hyperplane  that  separates two classes with a maximum margin. The SVM does a mapping $\\Phi$ from the input space to a high-dimensional feature space where data is linearly separable by performing a kernel trick. Consider a training set $\\{\\textbf{x}^{(i)},y^{(i)}\\}, i = 1,...,N$ where $\\textbf{x}^{(i)}$ is a training feature vector, $y^{(i)} = \\{-1, +1\\}$ is its true label, and $N$ is the number of samples. The primal SVM problem is then defined by minimization of:\n",
    "\\begin{equation}\n",
    "\\frac{1}{2}||\\mathbf{w}||^{2} + C\\sum_{i}\\xi\n",
    "\\end{equation}\n",
    "subject to\n",
    "\\begin{eqnarray*}\n",
    "y^{(i)}(\\mathbf{w} \\cdot \\Phi(\\mathbf{x}^{(i)}) + b) \\geq 1-\\xi, \\forall i \\\\\n",
    "\\xi \\geq 0, \\forall i, \n",
    "\\end{eqnarray*}\n",
    "where $\\mathbf{w}$ and $b$ are  the  weight  vector  and  the  bias  of  the separating hyperplane, and $C$ is the penalty parameter. This problem can be solved by its dual problem which consists of maximizing\n",
    "\\begin{equation}\n",
    "\\sum_{i}\\alpha^{(i)} -\\frac{1}{2}\\sum_{i,j}\\alpha^{(i)}\\alpha^{(j)}y^{(i)}y^{(j)}K(\\mathbf{x}^{(i)},\\mathbf{x}^{(j)})\n",
    "\\end{equation}\n",
    "subject to\n",
    "\\begin{eqnarray*}\n",
    "0 < \\alpha^{(i)} < C, \\forall i \\\\\n",
    "\\sum_{i}\\alpha^{(i)}y^{(i)} = 0\n",
    "\\end{eqnarray*}\n",
    "where $\\alpha^{(i)}$'s are  the  Lagrangian  multipliers  corresponding  to\n",
    "training instances, and $K(\\mathbf{x}^{(i)},\\mathbf{x}^{(j)})$ is a Kernel function, which allows the algorithm to fit the maximum-margin hyperplane in a transformed feature space. Thus, even if the classifier is a hyperplane in the transformed feature space, it can be nonlinear in the original feature space. For a multi-class classification the SVM problem is generalized into multiple binary classification problems. The classification can be performed between one of the labels and the rest, or between every pair of classes. Here I use the one vs rest approach.\n",
    "The SVM is trained using the over-sampled datasets principal components. A 5-fold grid-search cross-validation is used to find optimal parameters for the SVM on the training dataset. The SVM is performed with a radial basis function kernel, which is defined as \n",
    "\\begin{equation}\n",
    "K(\\mathbf{x}, \\mathbf{x'}) = \\exp(-\\gamma\\|\\mathbf{x} - \\mathbf{x'}\\|^2),\n",
    "\\end{equation}\n",
    "where values $\\gamma = 0.002$ and a penalty parameter $C = 11$ are used.\n"
   ]
  },
  {
   "cell_type": "code",
   "execution_count": 8,
   "metadata": {
    "scrolled": false
   },
   "outputs": [
    {
     "name": "stdout",
     "output_type": "stream",
     "text": [
      "FINISHED classifying. accuracy score : \n",
      "0.662694775435\n",
      "Cohen kappa score : \n",
      "0.526963865557\n",
      "Confusion matrix : \n",
      "[[431  27   8   6  15  18   6  21   2   1]\n",
      " [ 38 101   4   7   2   1   1   0   2   0]\n",
      " [  7   9  70   3   1   4   1   0   0   0]\n",
      " [ 10   2   2  27   2   5   0   0   0   0]\n",
      " [ 21   2   1   1  20   2   1   2   1   1]\n",
      " [  6   3   8   8   6  36   0   3   0   3]\n",
      " [ 15   2   3   3   7   5   1   4   0   2]\n",
      " [ 13   0   1   0   1   4   1  25   0   2]\n",
      " [  1   2   8   1   1   1   0   0  10   0]\n",
      " [  6   0   1   4   3   0   1   2   0   2]]\n",
      "Log loss : \n",
      "1.12715646414\n"
     ]
    }
   ],
   "source": [
    "#Support Vector Machine one vs rest approach\n",
    "modelSVC = svm.SVC(kernel='rbf', C=1, gamma=0.002,probability=True,decision_function_shape ='ovr')\n",
    "#train model\n",
    "modelSVC.fit(fe, la.ravel())\n",
    "predicted_labels = modelSVC.predict(validation_features)\n",
    "#Predicted propability\n",
    "predicted_prob=modelSVC.predict_proba(validation_features)\n",
    "cm_SVC=confusion_matrix(validation_labels[0].values, predicted_labels)\n",
    "svm_accuracy=accuracy_score(validation_labels[0].values, predicted_labels)\n",
    "loglossSVM=log_loss(validation_labels[0].values, predicted_prob)\n",
    "print(\"FINISHED classifying. accuracy score : \") \n",
    "print(svm_accuracy) \n",
    "print(\"Cohen kappa score : \")\n",
    "print(cohen_kappa_score(validation_labels[0].values, predicted_labels))\n",
    "print(\"Confusion matrix : \")\n",
    "print(cm_SVC)\n",
    "print(\"Log loss : \")\n",
    "print(loglossSVM)"
   ]
  },
  {
   "cell_type": "code",
   "execution_count": 9,
   "metadata": {
    "collapsed": true
   },
   "outputs": [],
   "source": [
    "#Calculate labels and log_loss for test data\n",
    "test_data_scaled=scaler.transform(test_data)\n",
    "submit_labels_SVC=modelSVC.predict(test_data_scaled)\n",
    "submit_log_loss_SVC=modelSVC.predict_proba(test_data_scaled)\n",
    "ids=list(range(1,len(submit_labels_SVC)+1))"
   ]
  },
  {
   "cell_type": "code",
   "execution_count": 10,
   "metadata": {},
   "outputs": [
    {
     "name": "stdout",
     "output_type": "stream",
     "text": [
      "Support Vector Machine predictions\n"
     ]
    }
   ],
   "source": [
    "#Count number of song labeled to each genre in\n",
    "countSVC=np.zeros(10)\n",
    "countsmote=np.zeros(10)\n",
    "print(\"Support Vector Machine predictions\")\n",
    "for i in range(1,11):\n",
    "    countSVC[i-1]=np.sum(submit_labels_SVC == i)"
   ]
  },
  {
   "cell_type": "code",
   "execution_count": 11,
   "metadata": {},
   "outputs": [
    {
     "data": {
      "text/plain": [
       "(array([0, 1, 2, 3, 4, 5, 6, 7, 8, 9]), <a list of 10 Text xticklabel objects>)"
      ]
     },
     "execution_count": 11,
     "metadata": {},
     "output_type": "execute_result"
    },
    {
     "data": {
      "image/png": "[encoded data removed]",
      "text/plain": [
       "<matplotlib.figure.Figure at 0x108085358>"
      ]
     },
     "metadata": {},
     "output_type": "display_data"
    }
   ],
   "source": [
    "#Count number of predicted labels for each genre in test dataset\n",
    "countsmote=np.zeros(10)\n",
    "for i in range(1,11):\n",
    "    countsmote[i-1]=np.sum(la == i)\n",
    "fig4,ax4=plt.subplots(figsize=(5,2.5))\n",
    "ax4.bar(np.arange(10),countsmote)\n",
    "ax4.set_xticks(np.arange(10))\n",
    "ax4.set_xticklabels(genres, fontsize=12)\n",
    "ax4.set_ylabel(\"Number of songs\")\n",
    "plt.xticks(rotation=45)"
   ]
  },
  {
   "cell_type": "code",
   "execution_count": 12,
   "metadata": {},
   "outputs": [
    {
     "data": {
      "text/plain": [
       "<matplotlib.text.Text at 0x112400240>"
      ]
     },
     "execution_count": 12,
     "metadata": {},
     "output_type": "execute_result"
    },
    {
     "data": {
      "image/png": "[encoded data removed]",
      "text/plain": [
       "<matplotlib.figure.Figure at 0x1123ec588>"
      ]
     },
     "metadata": {},
     "output_type": "display_data"
    }
   ],
   "source": [
    "#Create confusion matrix heatmap\n",
    "df_cm_SVC = pd.DataFrame(cm_SVC, index = [i for i in genres],\n",
    "                  columns = [i for i in genres])\n",
    "fig1=plt.figure(figsize = (6,6))\n",
    "ax1 = plt.axes()\n",
    "plt.xticks(rotation=45)\n",
    "heatmap=sns.heatmap(df_cm_SVC, annot=True,ax=ax1, fmt='g')\n",
    "plt.xticks(rotation=45)\n",
    "ax1.set_title(\"Confusion Matrix\", fontsize=12)\n",
    "ax1.set_xlabel(\"Predicted labels\", fontsize=12)\n",
    "ax1.set_ylabel(\"True labels\", fontsize=12)"
   ]
  },
  {
   "cell_type": "code",
   "execution_count": 14,
   "metadata": {},
   "outputs": [
    {
     "name": "stdout",
     "output_type": "stream",
     "text": [
      "Sparsity with L1 penalty: 0.00%\n",
      "Test score with L1 penalty: 0.5875\n",
      "Cohen kappa score : \n",
      "0.46344438215\n",
      "Confusion matrix : \n",
      "[[349  25  14  21  21  28  13  43  11  10]\n",
      " [ 22  92  10  14   3   3   3   1   5   3]\n",
      " [  5   7  71   2   2   2   1   0   3   2]\n",
      " [  5   2   3  27   3   5   0   1   0   2]\n",
      " [ 15   2   3   2  16   3   1   6   3   1]\n",
      " [  3   1  10   8   6  35   1   1   2   6]\n",
      " [  6   2   2   5   6   6   4   6   1   4]\n",
      " [  7   1   1   1   0   4   0  31   2   0]\n",
      " [  1   1   6   0   2   1   0   0  12   1]\n",
      " [  3   0   1   5   2   0   1   2   1   4]]\n"
     ]
    }
   ],
   "source": [
    "#Logistic Regression classifier\n",
    "clf = linear_model.LogisticRegression(C=1,\n",
    "                         multi_class='ovr',\n",
    "                          solver='sag', tol=0.01)\n",
    "clf.fit(fe, la.ravel())\n",
    "predicted_labels=clf.predict(validation_features)\n",
    "#clf.fit(train_new, train_labels[0].values)\n",
    "sparsity = np.mean(clf.coef_ == 0) * 100\n",
    "score = clf.score(validation_features, validation_labels[0].values)\n",
    "#score = clf.score(test_new, validation_labels[0].values)\n",
    "# print('Best C % .4f' % clf.C_)\n",
    "print(\"Sparsity with L1 penalty: %.2f%%\" % sparsity)\n",
    "print(\"Test score with L1 penalty: %.4f\" % score)\n",
    "print(\"Cohen kappa score : \")\n",
    "print(cohen_kappa_score(validation_labels[0].values, predicted_labels))\n",
    "print(\"Confusion matrix : \")\n",
    "print(confusion_matrix(validation_labels[0].values, predicted_labels))"
   ]
  },
  {
   "cell_type": "code",
   "execution_count": 18,
   "metadata": {},
   "outputs": [
    {
     "name": "stdout",
     "output_type": "stream",
     "text": [
      "FINISHED classifying. accuracy score : \n",
      "0.667277726856\n",
      "Cohen kappa score : \n",
      "0.501685446275\n",
      "Confusion matrix : \n",
      "[[471  20   8   7   9  12   0   8   0   0]\n",
      " [ 45  95   5   7   1   2   0   0   1   0]\n",
      " [ 15   9  62   3   2   4   0   0   0   0]\n",
      " [ 17   1   1  25   2   2   0   0   0   0]\n",
      " [ 27   2   2   1  13   3   0   2   2   0]\n",
      " [ 25   1   6   2   5  31   0   0   0   3]\n",
      " [ 27   3   2   2   4   0   1   1   0   2]\n",
      " [ 23   0   1   3   1   1   0  18   0   0]\n",
      " [  3   2   7   0   1   0   1   0  10   0]\n",
      " [ 11   0   1   5   0   0   0   0   0   2]]\n",
      "Log loss : \n",
      "1.07672563366\n"
     ]
    }
   ],
   "source": [
    "#XGboost classifier\n",
    "model_xgb = xgb.XGBClassifier(max_depth=6, n_estimators=300,learning_rate=0.05,min_child_weight = 1.5, colsample_bytree = 0.3,objective='multi:softmax')\n",
    "model_xgb.fit(fe, la.ravel())\n",
    "predicted_labels  = model_xgb.predict(validation_features)\n",
    "predicted_prob=model_xgb.predict_proba(validation_features)\n",
    "cm_xgb=confusion_matrix(validation_labels[0].values, predicted_labels)\n",
    "xgb_accuracy=accuracy_score(validation_labels[0].values, predicted_labels)\n",
    "print(\"FINISHED classifying. accuracy score : \") \n",
    "print(xgb_accuracy) \n",
    "print(\"Cohen kappa score : \")\n",
    "print(cohen_kappa_score(validation_labels[0].values, predicted_labels))\n",
    "print(\"Confusion matrix : \")\n",
    "print(cm_xgb)\n",
    "print(\"Log loss : \")\n",
    "print(log_loss(validation_labels[0].values, predicted_prob))"
   ]
  },
  {
   "cell_type": "markdown",
   "metadata": {
    "collapsed": true
   },
   "source": [
    "All of the used classification models seemed to perform quite similarly with SVM getting about 63% accuracy in test dataset. Logistic Regression is worked bit worse than SVM or XGB. In the dataset, the Pop Rock class is the majority which creates a problem for classifying the smallest class, Blues, as blues songs have similar timbral, rhythmic and pitch-related characteristics as rock songs. The most commonly misclassified class is International which is likely due to that the international music genre is a category which includes many different types of music: the genre consists of folk and ethnic music from around the globe."
   ]
  },
  {
   "cell_type": "code",
   "execution_count": null,
   "metadata": {
    "collapsed": true
   },
   "outputs": [],
   "source": []
  }
 ],
 "metadata": {
  "kernelspec": {
   "display_name": "Python 3",
   "language": "python",
   "name": "python3"
  },
  "language_info": {
   "codemirror_mode": {
    "name": "ipython",
    "version": 3
   },
   "file_extension": ".py",
   "mimetype": "text/x-python",
   "name": "python",
   "nbconvert_exporter": "python",
   "pygments_lexer": "ipython3",
   "version": "3.6.1"
  }
 },
 "nbformat": 4,
 "nbformat_minor": 2
}
